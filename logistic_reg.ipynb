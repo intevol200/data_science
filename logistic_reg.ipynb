{
  "nbformat": 4,
  "nbformat_minor": 0,
  "metadata": {
    "colab": {
      "name": "과제.ipynb",
      "provenance": [],
      "collapsed_sections": []
    },
    "kernelspec": {
      "name": "python3",
      "display_name": "Python 3"
    }
  },
  "cells": [
    {
      "cell_type": "markdown",
      "metadata": {
        "id": "HW0IUaEF9zq8"
      },
      "source": [
        "## Pytorch로 Logistic Regression 구현"
      ]
    },
    {
      "cell_type": "code",
      "metadata": {
        "id": "KUGY9jac9fld",
        "outputId": "669bfe29-ad5f-4002-90f1-718fcae2f8b7",
        "colab": {
          "base_uri": "https://localhost:8080/"
        }
      },
      "source": [
        "import torch\n",
        "\n",
        "x_train = torch.FloatTensor([[1],[2],[3],[4],[5],[2.5],[3.5],[0],[3.1],[2.7],[2.8],[2.9]])\n",
        "y_train = torch.FloatTensor([[1],[1],[1],[0],[0],[0],[0],[1],[0],[1],[1],[1]])\n",
        "\n",
        "W = torch.zeros(1,1)\n",
        "b = torch.zeros(1,1)\n",
        "lr = 1.0\n",
        "\n",
        "for epoch in range(3001):\n",
        "    W.requires_grad_(True)\n",
        "    b.requires_grad_(True)\n",
        "\n",
        "    hypothesis = torch.sigmoid(torch.mm(x_train, W) + b)\n",
        "    cost = torch.mean(-y_train * torch.log(hypothesis) - (1 - y_train) * torch.log(1 - hypothesis))\n",
        "\n",
        "    cost.backward()\n",
        "    with torch.no_grad() as grd:\n",
        "        W = W - lr * W.grad\n",
        "        b = b - lr * b.grad\n",
        "\n",
        "    if epoch % 300 == 0:\n",
        "        print('epoch: {}, cost: {:.6f}, W: {:.6f}, b: {:.6f}'.format(epoch, cost.item(), W.item(), b.item()))"
      ],
      "execution_count": 73,
      "outputs": [
        {
          "output_type": "stream",
          "text": [
            "epoch: 0, cost: 0.693147, W: -0.154167, b: 0.083333\n",
            "epoch: 300, cost: 0.390820, W: -2.174323, b: 6.609555\n",
            "epoch: 600, cost: 0.383699, W: -2.620779, b: 7.953164\n",
            "epoch: 900, cost: 0.382149, W: -2.832521, b: 8.587361\n",
            "epoch: 1200, cost: 0.381706, W: -2.946401, b: 8.927779\n",
            "epoch: 1500, cost: 0.381565, W: -3.010968, b: 9.120598\n",
            "epoch: 1800, cost: 0.381517, W: -3.048561, b: 9.232801\n",
            "epoch: 2100, cost: 0.381500, W: -3.070766, b: 9.299055\n",
            "epoch: 2400, cost: 0.381494, W: -3.083992, b: 9.338511\n",
            "epoch: 2700, cost: 0.381492, W: -3.091908, b: 9.362126\n",
            "epoch: 3000, cost: 0.381491, W: -3.096662, b: 9.376307\n"
          ],
          "name": "stdout"
        }
      ]
    },
    {
      "cell_type": "code",
      "metadata": {
        "id": "suSKg5rOCOG2",
        "outputId": "1b4c9105-513f-410e-c543-ac7ce23b005f",
        "colab": {
          "base_uri": "https://localhost:8080/"
        }
      },
      "source": [
        "x_test = torch.FloatTensor([[4.5],[1.1]])\n",
        "test_result = torch.sigmoid(torch.mm(x_test, W) + b)\n",
        "\n",
        "print(torch.round(test_result))"
      ],
      "execution_count": 70,
      "outputs": [
        {
          "output_type": "stream",
          "text": [
            "tensor([[0.],\n",
            "        [1.]])\n"
          ],
          "name": "stdout"
        }
      ]
    },
    {
      "cell_type": "markdown",
      "metadata": {
        "id": "kRl0EbCvCyPz"
      },
      "source": [
        "## 여러가지 Optimizer 사용해보기"
      ]
    },
    {
      "cell_type": "code",
      "metadata": {
        "id": "ONuzQkTdC20Q",
        "outputId": "0f5ce3f3-c935-4124-b493-b2eccced9b86",
        "colab": {
          "base_uri": "https://localhost:8080/"
        }
      },
      "source": [
        "# optimizer = torch.optim.SGD([W,b], lr=1.0)\n",
        "optimizer = torch.optim.Adam([W,b], lr=1.0)\n",
        "# optimizer = torch.optim.Adadelta([W,b])\n",
        "# optimizer = torch.optim.Adagrad([W,b])\n",
        "# optimizer = torch.optim.RMSprop([W,b])\n",
        "\n",
        "for epoch in range(3001):\n",
        "    W.requires_grad_(True)\n",
        "    b.requires_grad_(True)\n",
        "\n",
        "    hypothesis = torch.sigmoid(torch.mm(x_train, W) + b)\n",
        "    cost = torch.mean(-y_train * torch.log(hypothesis) - (1 - y_train) * torch.log(1 - hypothesis))\n",
        "\n",
        "    optimizer.zero_grad()\n",
        "    cost.backward()\n",
        "    optimizer.step()\n",
        "\n",
        "    if epoch % 300 == 0:\n",
        "        print('epoch: {}, cost: {:.6f}, W: {:.6f}, b: {:.6f}'.format(epoch, cost.item(), W.item(), b.item()))"
      ],
      "execution_count": 77,
      "outputs": [
        {
          "output_type": "stream",
          "text": [
            "epoch: 0, cost: 0.381491, W: -4.020722, b: 10.376618\n",
            "epoch: 300, cost: 0.381491, W: -3.103850, b: 9.397745\n",
            "epoch: 600, cost: 0.381491, W: -3.103852, b: 9.397749\n",
            "epoch: 900, cost: 0.383129, W: -3.184701, b: 9.599735\n",
            "epoch: 1200, cost: 0.381491, W: -3.103850, b: 9.397753\n",
            "epoch: 1500, cost: 0.383925, W: -3.229434, b: 9.506777\n",
            "epoch: 1800, cost: 0.381491, W: -3.104393, b: 9.397264\n",
            "epoch: 2100, cost: 0.381494, W: -3.102907, b: 9.401967\n",
            "epoch: 2400, cost: 0.382195, W: -3.154409, b: 9.446449\n",
            "epoch: 2700, cost: 0.381491, W: -3.104053, b: 9.396966\n",
            "epoch: 3000, cost: 0.381491, W: -3.104198, b: 9.400521\n"
          ],
          "name": "stdout"
        }
      ]
    },
    {
      "cell_type": "markdown",
      "metadata": {
        "id": "B7fDbHILDReO"
      },
      "source": [
        "## Matplotlib으로 결과 시각화"
      ]
    },
    {
      "cell_type": "code",
      "metadata": {
        "id": "sv710x_xCxTX",
        "outputId": "6cf7fc66-b648-481a-9fc3-54dc5a22febf",
        "colab": {
          "base_uri": "https://localhost:8080/",
          "height": 279
        }
      },
      "source": [
        "import matplotlib.pyplot as plt\n",
        "\n",
        "W.requires_grad_(False)\n",
        "b.requires_grad_(False)\n",
        "\n",
        "plt.scatter(x_train, y_train, c=\"black\", label=\"Training data\")\n",
        "\n",
        "X = torch.linspace(0,5,100).unsqueeze(1)\n",
        "Y = torch.sigmoid(torch.mm(X,W) + b)\n",
        "\n",
        "plt.ylabel(\"Probability of 1 (Y)\")\n",
        "plt.xlabel(\"Input (X)\")\n",
        "\n",
        "plt.plot(X,Y, c=\"#ff0000\", label=\"Fitting line\")\n",
        "plt.legend()\n",
        "plt.show()"
      ],
      "execution_count": 72,
      "outputs": [
        {
          "output_type": "display_data",
          "data": {
            "image/png": "[encoded data removed]",
            "text/plain": [
              "<Figure size 432x288 with 1 Axes>"
            ]
          },
          "metadata": {
            "tags": [],
            "needs_background": "light"
          }
        }
      ]
    }
  ]
}