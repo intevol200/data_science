{
  "nbformat": 4,
  "nbformat_minor": 0,
  "metadata": {
    "colab": {
      "name": "학생_신체데이터_분석.ipynb",
      "provenance": [],
      "collapsed_sections": []
    },
    "kernelspec": {
      "name": "python3",
      "display_name": "Python 3"
    }
  },
  "cells": [
    {
      "cell_type": "markdown",
      "metadata": {
        "id": "2mXfd529BDHR"
      },
      "source": [
        "### Task 1. (20 점) csv 파일을 다운로드 받고 pandas를 이용하여 불러오기\n",
        "\n",
        "* Task 1-1. (10 점) 데이터 불러오기\n",
        "* Task 1-2. (10 점) 데이터 중에서 키와 몸무게 데이터만 골라내기"
      ]
    },
    {
      "cell_type": "code",
      "metadata": {
        "id": "ozgP8iJTcqRq",
        "outputId": "066ad645-7bf7-486a-ad51-fcffda8da529",
        "colab": {
          "base_uri": "https://localhost:8080/",
          "height": 419
        }
      },
      "source": [
        "import pandas as pd\n",
        "import numpy as np\n",
        "\n",
        "df = pd.read_csv(\"./p01_input.csv\", encoding='cp949')\n",
        "df = df[[\"키\", \"몸무게\"]]\n",
        "df"
      ],
      "execution_count": 1,
      "outputs": [
        {
          "output_type": "execute_result",
          "data": {
            "text/html": [
              "<div>\n",
              "<style scoped>\n",
              "    .dataframe tbody tr th:only-of-type {\n",
              "        vertical-align: middle;\n",
              "    }\n",
              "\n",
              "    .dataframe tbody tr th {\n",
              "        vertical-align: top;\n",
              "    }\n",
              "\n",
              "    .dataframe thead th {\n",
              "        text-align: right;\n",
              "    }\n",
              "</style>\n",
              "<table border=\"1\" class=\"dataframe\">\n",
              "  <thead>\n",
              "    <tr style=\"text-align: right;\">\n",
              "      <th></th>\n",
              "      <th>키</th>\n",
              "      <th>몸무게</th>\n",
              "    </tr>\n",
              "  </thead>\n",
              "  <tbody>\n",
              "    <tr>\n",
              "      <th>0</th>\n",
              "      <td>125.8</td>\n",
              "      <td>27.3</td>\n",
              "    </tr>\n",
              "    <tr>\n",
              "      <th>1</th>\n",
              "      <td>124.3</td>\n",
              "      <td>25.4</td>\n",
              "    </tr>\n",
              "    <tr>\n",
              "      <th>2</th>\n",
              "      <td>119.2</td>\n",
              "      <td>23.5</td>\n",
              "    </tr>\n",
              "    <tr>\n",
              "      <th>3</th>\n",
              "      <td>115.0</td>\n",
              "      <td>20.0</td>\n",
              "    </tr>\n",
              "    <tr>\n",
              "      <th>4</th>\n",
              "      <td>120.0</td>\n",
              "      <td>33.5</td>\n",
              "    </tr>\n",
              "    <tr>\n",
              "      <th>...</th>\n",
              "      <td>...</td>\n",
              "      <td>...</td>\n",
              "    </tr>\n",
              "    <tr>\n",
              "      <th>9681</th>\n",
              "      <td>176.1</td>\n",
              "      <td>50.4</td>\n",
              "    </tr>\n",
              "    <tr>\n",
              "      <th>9682</th>\n",
              "      <td>174.1</td>\n",
              "      <td>88.8</td>\n",
              "    </tr>\n",
              "    <tr>\n",
              "      <th>9683</th>\n",
              "      <td>169.5</td>\n",
              "      <td>63.2</td>\n",
              "    </tr>\n",
              "    <tr>\n",
              "      <th>9684</th>\n",
              "      <td>159.2</td>\n",
              "      <td>52.9</td>\n",
              "    </tr>\n",
              "    <tr>\n",
              "      <th>9685</th>\n",
              "      <td>162.0</td>\n",
              "      <td>67.7</td>\n",
              "    </tr>\n",
              "  </tbody>\n",
              "</table>\n",
              "<p>9686 rows × 2 columns</p>\n",
              "</div>"
            ],
            "text/plain": [
              "          키   몸무게\n",
              "0     125.8  27.3\n",
              "1     124.3  25.4\n",
              "2     119.2  23.5\n",
              "3     115.0  20.0\n",
              "4     120.0  33.5\n",
              "...     ...   ...\n",
              "9681  176.1  50.4\n",
              "9682  174.1  88.8\n",
              "9683  169.5  63.2\n",
              "9684  159.2  52.9\n",
              "9685  162.0  67.7\n",
              "\n",
              "[9686 rows x 2 columns]"
            ]
          },
          "metadata": {
            "tags": []
          },
          "execution_count": 1
        }
      ]
    },
    {
      "cell_type": "markdown",
      "metadata": {
        "id": "DVikGxk9BSpT"
      },
      "source": [
        "### Task 2. (10 점) 학생들의 평균 키와 평균 몸무게 구하기"
      ]
    },
    {
      "cell_type": "code",
      "metadata": {
        "id": "B_ATgHSoPv7A",
        "outputId": "d9927daf-7f7d-43c8-b22d-e7d51701f5df",
        "colab": {
          "base_uri": "https://localhost:8080/"
        }
      },
      "source": [
        "height = np.mean(df[\"키\"])\n",
        "weight = np.mean(df[\"몸무게\"])\n",
        "\n",
        "print(\"키 평균: \", height)\n",
        "print(\"몸무게 평균: \", weight)"
      ],
      "execution_count": 2,
      "outputs": [
        {
          "output_type": "stream",
          "text": [
            "키 평균:  154.56444352674015\n",
            "몸무게 평균:  50.20759140673406\n"
          ],
          "name": "stdout"
        }
      ]
    },
    {
      "cell_type": "markdown",
      "metadata": {
        "id": "a__zIlT3BnBD"
      },
      "source": [
        "### Task 3. (10 점) 키와 몸무게 사이의 상관관계 (Pearson Correlation Coefficient) 구하기"
      ]
    },
    {
      "cell_type": "code",
      "metadata": {
        "id": "XvkoKWt4Bp-a",
        "outputId": "306847f4-5200-4f18-cc0a-6e9683d81a7d",
        "colab": {
          "base_uri": "https://localhost:8080/",
          "height": 111
        }
      },
      "source": [
        "df = df.dropna()\n",
        "\n",
        "corr = df.corr(method = 'pearson')\n",
        "corr"
      ],
      "execution_count": 3,
      "outputs": [
        {
          "output_type": "execute_result",
          "data": {
            "text/html": [
              "<div>\n",
              "<style scoped>\n",
              "    .dataframe tbody tr th:only-of-type {\n",
              "        vertical-align: middle;\n",
              "    }\n",
              "\n",
              "    .dataframe tbody tr th {\n",
              "        vertical-align: top;\n",
              "    }\n",
              "\n",
              "    .dataframe thead th {\n",
              "        text-align: right;\n",
              "    }\n",
              "</style>\n",
              "<table border=\"1\" class=\"dataframe\">\n",
              "  <thead>\n",
              "    <tr style=\"text-align: right;\">\n",
              "      <th></th>\n",
              "      <th>키</th>\n",
              "      <th>몸무게</th>\n",
              "    </tr>\n",
              "  </thead>\n",
              "  <tbody>\n",
              "    <tr>\n",
              "      <th>키</th>\n",
              "      <td>1.000000</td>\n",
              "      <td>0.849006</td>\n",
              "    </tr>\n",
              "    <tr>\n",
              "      <th>몸무게</th>\n",
              "      <td>0.849006</td>\n",
              "      <td>1.000000</td>\n",
              "    </tr>\n",
              "  </tbody>\n",
              "</table>\n",
              "</div>"
            ],
            "text/plain": [
              "            키       몸무게\n",
              "키    1.000000  0.849006\n",
              "몸무게  0.849006  1.000000"
            ]
          },
          "metadata": {
            "tags": []
          },
          "execution_count": 3
        }
      ]
    },
    {
      "cell_type": "code",
      "metadata": {
        "id": "W5xc3Z8qFc_w",
        "outputId": "97dead68-60ef-4f5f-cc55-859db56417ba",
        "colab": {
          "base_uri": "https://localhost:8080/"
        }
      },
      "source": [
        "df_h = df[\"키\"]\n",
        "df_w = df[\"몸무게\"]\n",
        "\n",
        "mean_x = sum(df_h) / len(df_h)\n",
        "mean_y = sum(df_w) / len(df_w)\n",
        "std_x = (sum((x - mean_x) ** 2 for x in df_h) / len(df_h)) ** 0.5\n",
        "std_y = (sum((y - mean_y) ** 2 for y in df_w) / len(df_w)) ** 0.5\n",
        "cov = sum((x - mean_x) * (y - mean_y) for x, y in zip(df_h, df_w)) / len(df_h)\n",
        "corr = cov / std_x / std_y\n",
        "\n",
        "corr"
      ],
      "execution_count": 4,
      "outputs": [
        {
          "output_type": "execute_result",
          "data": {
            "text/plain": [
              "0.8490058387689013"
            ]
          },
          "metadata": {
            "tags": []
          },
          "execution_count": 4
        }
      ]
    },
    {
      "cell_type": "markdown",
      "metadata": {
        "id": "aisdsPMmCZbh"
      },
      "source": [
        "### Task 4. (40 점) Linear Regression을 사용하여 키와 몸무게 사이의 선형관계를 찾기 \n",
        "### (= 직선의 방정식 구하기: y= wx + b 에서 w와 b값 구하기)\n",
        "* Task 4-1. (10 점) 가설, 비용 설정하기\n",
        "* Task 4-2. (20 점) 경사하강법으로 비용을 최소로 만들도록 학습하기 (torch.optim 사용하지 말고 직접 구현해보기)\n"
      ]
    },
    {
      "cell_type": "code",
      "metadata": {
        "id": "jysdGHgOs3cB"
      },
      "source": [
        "import torch\n",
        "\n",
        "x = np.array(df_h).reshape(len(df_h), 1)\n",
        "y = np.array(df_w).reshape(len(df_w), 1)\n",
        "\n",
        "x_train = torch.FloatTensor(x)\n",
        "y_train = torch.FloatTensor(y)\n",
        "\n",
        "W = torch.zeros(1,1)\n",
        "b = torch.zeros(1,1)\n",
        "\n",
        "lr = 0.00004134"
      ],
      "execution_count": 5,
      "outputs": []
    },
    {
      "cell_type": "code",
      "metadata": {
        "id": "Yl0yzhVqtZF_",
        "outputId": "0818404c-c600-4dea-b841-3ab8680a265c",
        "colab": {
          "base_uri": "https://localhost:8080/"
        }
      },
      "source": [
        "for epoch in range(2000001):\n",
        "    W.requires_grad_(True)\n",
        "    b.requires_grad_(True)\n",
        "    \n",
        "    hypothesis = torch.mm(x_train, W) + b\n",
        "    cost = torch.mean((hypothesis - y_train) ** 2)\n",
        "\n",
        "    cost.backward()\n",
        "\n",
        "    with torch.no_grad() as grd:\n",
        "        W = W - lr * W.grad\n",
        "        b = b - lr * b.grad\n",
        "        \n",
        "        if epoch % 10000 == 0:\n",
        "            print( 'epoch: {}, cost: {:.4f}, W: {:.4f}, b: {:.4f}' .format(epoch, cost.item(), W.item(), b.item()))"
      ],
      "execution_count": 6,
      "outputs": [
        {
          "output_type": "stream",
          "text": [
            "epoch: 0, cost: 2812.3604, W: 0.6620, b: 0.0042\n",
            "epoch: 10000, cost: 159.6037, W: 0.3363, b: -0.7999\n",
            "epoch: 20000, cost: 158.0783, W: 0.3413, b: -1.5939\n",
            "epoch: 30000, cost: 156.5827, W: 0.3463, b: -2.3802\n",
            "epoch: 40000, cost: 155.1165, W: 0.3513, b: -3.1587\n",
            "epoch: 50000, cost: 153.6787, W: 0.3562, b: -3.9296\n",
            "epoch: 60000, cost: 152.2686, W: 0.3611, b: -4.6933\n",
            "epoch: 70000, cost: 150.8866, W: 0.3660, b: -5.4490\n",
            "epoch: 80000, cost: 149.5315, W: 0.3708, b: -6.1975\n",
            "epoch: 90000, cost: 148.2027, W: 0.3755, b: -6.9386\n",
            "epoch: 100000, cost: 146.9001, W: 0.3802, b: -7.6723\n",
            "epoch: 110000, cost: 145.6227, W: 0.3848, b: -8.3990\n",
            "epoch: 120000, cost: 144.3706, W: 0.3894, b: -9.1183\n",
            "epoch: 130000, cost: 143.1406, W: 0.3940, b: -9.8319\n",
            "epoch: 140000, cost: 141.9361, W: 0.3985, b: -10.5376\n",
            "epoch: 150000, cost: 140.7568, W: 0.4030, b: -11.2354\n",
            "epoch: 160000, cost: 139.5983, W: 0.4074, b: -11.9277\n",
            "epoch: 170000, cost: 138.4611, W: 0.4118, b: -12.6140\n",
            "epoch: 180000, cost: 137.3500, W: 0.4161, b: -13.2911\n",
            "epoch: 190000, cost: 136.2588, W: 0.4204, b: -13.9628\n",
            "epoch: 200000, cost: 135.1866, W: 0.4247, b: -14.6292\n",
            "epoch: 210000, cost: 134.1371, W: 0.4289, b: -15.2880\n",
            "epoch: 220000, cost: 133.1096, W: 0.4330, b: -15.9394\n",
            "epoch: 230000, cost: 132.0967, W: 0.4372, b: -16.5879\n",
            "epoch: 240000, cost: 131.1073, W: 0.4413, b: -17.2276\n",
            "epoch: 250000, cost: 130.1434, W: 0.4453, b: -17.8571\n",
            "epoch: 260000, cost: 129.1889, W: 0.4493, b: -18.4865\n",
            "epoch: 270000, cost: 128.2521, W: 0.4533, b: -19.1104\n",
            "epoch: 280000, cost: 127.3446, W: 0.4572, b: -19.7207\n",
            "epoch: 290000, cost: 126.4460, W: 0.4611, b: -20.3311\n",
            "epoch: 300000, cost: 125.5612, W: 0.4650, b: -20.9380\n",
            "epoch: 310000, cost: 124.7075, W: 0.4688, b: -21.5294\n",
            "epoch: 320000, cost: 123.8623, W: 0.4725, b: -22.1207\n",
            "epoch: 330000, cost: 123.0254, W: 0.4763, b: -22.7120\n",
            "epoch: 340000, cost: 122.2216, W: 0.4800, b: -23.2856\n",
            "epoch: 350000, cost: 121.4275, W: 0.4836, b: -23.8578\n",
            "epoch: 360000, cost: 120.6412, W: 0.4873, b: -24.4300\n",
            "epoch: 370000, cost: 119.8764, W: 0.4909, b: -24.9920\n",
            "epoch: 380000, cost: 119.1311, W: 0.4944, b: -25.5451\n",
            "epoch: 390000, cost: 118.3931, W: 0.4980, b: -26.0983\n",
            "epoch: 400000, cost: 117.6642, W: 0.5015, b: -26.6501\n",
            "epoch: 410000, cost: 116.9652, W: 0.5049, b: -27.1844\n",
            "epoch: 420000, cost: 116.2734, W: 0.5083, b: -27.7185\n",
            "epoch: 430000, cost: 115.5884, W: 0.5118, b: -28.2525\n",
            "epoch: 440000, cost: 114.9191, W: 0.5151, b: -28.7795\n",
            "epoch: 450000, cost: 114.2714, W: 0.5184, b: -29.2945\n",
            "epoch: 460000, cost: 113.6301, W: 0.5217, b: -29.8095\n",
            "epoch: 470000, cost: 112.9951, W: 0.5250, b: -30.3245\n",
            "epoch: 480000, cost: 112.3808, W: 0.5282, b: -30.8276\n",
            "epoch: 490000, cost: 111.7812, W: 0.5314, b: -31.3235\n",
            "epoch: 500000, cost: 111.1875, W: 0.5345, b: -31.8194\n",
            "epoch: 510000, cost: 110.5996, W: 0.5377, b: -32.3153\n",
            "epoch: 520000, cost: 110.0176, W: 0.5409, b: -32.8113\n",
            "epoch: 530000, cost: 109.4414, W: 0.5441, b: -33.3072\n",
            "epoch: 540000, cost: 108.9026, W: 0.5471, b: -33.7756\n",
            "epoch: 550000, cost: 108.3811, W: 0.5500, b: -34.2333\n",
            "epoch: 560000, cost: 107.8646, W: 0.5529, b: -34.6911\n",
            "epoch: 570000, cost: 107.3530, W: 0.5558, b: -35.1489\n",
            "epoch: 580000, cost: 106.8465, W: 0.5588, b: -35.6066\n",
            "epoch: 590000, cost: 106.3449, W: 0.5617, b: -36.0644\n",
            "epoch: 600000, cost: 105.8484, W: 0.5646, b: -36.5222\n",
            "epoch: 610000, cost: 105.3568, W: 0.5675, b: -36.9799\n",
            "epoch: 620000, cost: 104.8830, W: 0.5704, b: -37.4256\n",
            "epoch: 630000, cost: 104.4413, W: 0.5731, b: -37.8452\n",
            "epoch: 640000, cost: 104.0037, W: 0.5758, b: -38.2648\n",
            "epoch: 650000, cost: 103.5703, W: 0.5784, b: -38.6844\n",
            "epoch: 660000, cost: 103.1412, W: 0.5811, b: -39.1040\n",
            "epoch: 670000, cost: 102.7162, W: 0.5838, b: -39.5237\n",
            "epoch: 680000, cost: 102.2954, W: 0.5865, b: -39.9433\n",
            "epoch: 690000, cost: 101.8788, W: 0.5892, b: -40.3629\n",
            "epoch: 700000, cost: 101.4664, W: 0.5918, b: -40.7825\n",
            "epoch: 710000, cost: 101.0623, W: 0.5945, b: -41.1979\n",
            "epoch: 720000, cost: 100.6903, W: 0.5970, b: -41.5840\n",
            "epoch: 730000, cost: 100.3263, W: 0.5994, b: -41.9655\n",
            "epoch: 740000, cost: 99.9658, W: 0.6019, b: -42.3470\n",
            "epoch: 750000, cost: 99.6087, W: 0.6043, b: -42.7284\n",
            "epoch: 760000, cost: 99.2552, W: 0.6067, b: -43.1099\n",
            "epoch: 770000, cost: 98.9050, W: 0.6092, b: -43.4914\n",
            "epoch: 780000, cost: 98.5584, W: 0.6116, b: -43.8729\n",
            "epoch: 790000, cost: 98.2152, W: 0.6140, b: -44.2543\n",
            "epoch: 800000, cost: 97.8755, W: 0.6165, b: -44.6358\n",
            "epoch: 810000, cost: 97.5394, W: 0.6189, b: -45.0171\n",
            "epoch: 820000, cost: 97.2386, W: 0.6211, b: -45.3617\n",
            "epoch: 830000, cost: 96.9418, W: 0.6233, b: -45.7050\n",
            "epoch: 840000, cost: 96.6477, W: 0.6255, b: -46.0483\n",
            "epoch: 850000, cost: 96.3565, W: 0.6277, b: -46.3917\n",
            "epoch: 860000, cost: 96.0681, W: 0.6299, b: -46.7350\n",
            "epoch: 870000, cost: 95.7825, W: 0.6321, b: -47.0783\n",
            "epoch: 880000, cost: 95.4997, W: 0.6343, b: -47.4216\n",
            "epoch: 890000, cost: 95.2197, W: 0.6365, b: -47.7650\n",
            "epoch: 900000, cost: 94.9425, W: 0.6387, b: -48.1083\n",
            "epoch: 910000, cost: 94.6681, W: 0.6409, b: -48.4516\n",
            "epoch: 920000, cost: 94.3965, W: 0.6431, b: -48.7949\n",
            "epoch: 930000, cost: 94.1424, W: 0.6452, b: -49.1194\n",
            "epoch: 940000, cost: 93.9057, W: 0.6471, b: -49.4246\n",
            "epoch: 950000, cost: 93.6713, W: 0.6490, b: -49.7298\n",
            "epoch: 960000, cost: 93.4390, W: 0.6510, b: -50.0350\n",
            "epoch: 970000, cost: 93.2090, W: 0.6529, b: -50.3401\n",
            "epoch: 980000, cost: 92.9812, W: 0.6549, b: -50.6453\n",
            "epoch: 990000, cost: 92.7556, W: 0.6568, b: -50.9505\n",
            "epoch: 1000000, cost: 92.5322, W: 0.6588, b: -51.2557\n",
            "epoch: 1010000, cost: 92.3111, W: 0.6608, b: -51.5608\n",
            "epoch: 1020000, cost: 92.0922, W: 0.6627, b: -51.8660\n",
            "epoch: 1030000, cost: 91.8755, W: 0.6647, b: -52.1712\n",
            "epoch: 1040000, cost: 91.6610, W: 0.6666, b: -52.4764\n",
            "epoch: 1050000, cost: 91.4511, W: 0.6685, b: -52.7780\n",
            "epoch: 1060000, cost: 91.2637, W: 0.6703, b: -53.0502\n",
            "epoch: 1070000, cost: 91.0815, W: 0.6720, b: -53.3172\n",
            "epoch: 1080000, cost: 90.9009, W: 0.6737, b: -53.5842\n",
            "epoch: 1090000, cost: 90.7221, W: 0.6754, b: -53.8513\n",
            "epoch: 1100000, cost: 90.5450, W: 0.6771, b: -54.1183\n",
            "epoch: 1110000, cost: 90.3696, W: 0.6788, b: -54.3853\n",
            "epoch: 1120000, cost: 90.1959, W: 0.6805, b: -54.6523\n",
            "epoch: 1130000, cost: 90.0238, W: 0.6822, b: -54.9194\n",
            "epoch: 1140000, cost: 89.8535, W: 0.6839, b: -55.1864\n",
            "epoch: 1150000, cost: 89.6849, W: 0.6856, b: -55.4534\n",
            "epoch: 1160000, cost: 89.5180, W: 0.6873, b: -55.7205\n",
            "epoch: 1170000, cost: 89.3528, W: 0.6890, b: -55.9875\n",
            "epoch: 1180000, cost: 89.1892, W: 0.6908, b: -56.2545\n",
            "epoch: 1190000, cost: 89.0274, W: 0.6925, b: -56.5215\n",
            "epoch: 1200000, cost: 88.8757, W: 0.6941, b: -56.7745\n",
            "epoch: 1210000, cost: 88.7367, W: 0.6956, b: -57.0085\n",
            "epoch: 1220000, cost: 88.6020, W: 0.6970, b: -57.2373\n",
            "epoch: 1230000, cost: 88.4685, W: 0.6985, b: -57.4662\n",
            "epoch: 1240000, cost: 88.3363, W: 0.7000, b: -57.6951\n",
            "epoch: 1250000, cost: 88.2054, W: 0.7014, b: -57.9240\n",
            "epoch: 1260000, cost: 88.0757, W: 0.7029, b: -58.1529\n",
            "epoch: 1270000, cost: 87.9472, W: 0.7044, b: -58.3818\n",
            "epoch: 1280000, cost: 87.8200, W: 0.7058, b: -58.6106\n",
            "epoch: 1290000, cost: 87.6940, W: 0.7073, b: -58.8395\n",
            "epoch: 1300000, cost: 87.5693, W: 0.7087, b: -59.0684\n",
            "epoch: 1310000, cost: 87.4458, W: 0.7102, b: -59.2973\n",
            "epoch: 1320000, cost: 87.3236, W: 0.7117, b: -59.5262\n",
            "epoch: 1330000, cost: 87.2026, W: 0.7131, b: -59.7550\n",
            "epoch: 1340000, cost: 87.0829, W: 0.7146, b: -59.9839\n",
            "epoch: 1350000, cost: 86.9644, W: 0.7161, b: -60.2128\n",
            "epoch: 1360000, cost: 86.8472, W: 0.7175, b: -60.4417\n",
            "epoch: 1370000, cost: 86.7395, W: 0.7189, b: -60.6542\n",
            "epoch: 1380000, cost: 86.6416, W: 0.7201, b: -60.8492\n",
            "epoch: 1390000, cost: 86.5467, W: 0.7214, b: -61.0400\n",
            "epoch: 1400000, cost: 86.4527, W: 0.7226, b: -61.2307\n",
            "epoch: 1410000, cost: 86.3595, W: 0.7238, b: -61.4214\n",
            "epoch: 1420000, cost: 86.2672, W: 0.7250, b: -61.6122\n",
            "epoch: 1430000, cost: 86.1758, W: 0.7262, b: -61.8029\n",
            "epoch: 1440000, cost: 86.0853, W: 0.7274, b: -61.9936\n",
            "epoch: 1450000, cost: 85.9956, W: 0.7287, b: -62.1844\n",
            "epoch: 1460000, cost: 85.9067, W: 0.7299, b: -62.3751\n",
            "epoch: 1470000, cost: 85.8188, W: 0.7311, b: -62.5658\n",
            "epoch: 1480000, cost: 85.7317, W: 0.7323, b: -62.7566\n",
            "epoch: 1490000, cost: 85.6455, W: 0.7335, b: -62.9473\n",
            "epoch: 1500000, cost: 85.5601, W: 0.7348, b: -63.1380\n",
            "epoch: 1510000, cost: 85.4756, W: 0.7360, b: -63.3288\n",
            "epoch: 1520000, cost: 85.3920, W: 0.7372, b: -63.5195\n",
            "epoch: 1530000, cost: 85.3093, W: 0.7384, b: -63.7102\n",
            "epoch: 1540000, cost: 85.2274, W: 0.7396, b: -63.9010\n",
            "epoch: 1550000, cost: 85.1541, W: 0.7407, b: -64.0734\n",
            "epoch: 1560000, cost: 85.0899, W: 0.7417, b: -64.2260\n",
            "epoch: 1570000, cost: 85.0262, W: 0.7427, b: -64.3785\n",
            "epoch: 1580000, cost: 84.9630, W: 0.7437, b: -64.5311\n",
            "epoch: 1590000, cost: 84.9004, W: 0.7446, b: -64.6837\n",
            "epoch: 1600000, cost: 84.8384, W: 0.7456, b: -64.8363\n",
            "epoch: 1610000, cost: 84.7769, W: 0.7466, b: -64.9889\n",
            "epoch: 1620000, cost: 84.7160, W: 0.7476, b: -65.1415\n",
            "epoch: 1630000, cost: 84.6556, W: 0.7485, b: -65.2941\n",
            "epoch: 1640000, cost: 84.5958, W: 0.7495, b: -65.4467\n",
            "epoch: 1650000, cost: 84.5365, W: 0.7505, b: -65.5993\n",
            "epoch: 1660000, cost: 84.4778, W: 0.7515, b: -65.7518\n",
            "epoch: 1670000, cost: 84.4196, W: 0.7524, b: -65.9044\n",
            "epoch: 1680000, cost: 84.3620, W: 0.7534, b: -66.0570\n",
            "epoch: 1690000, cost: 84.3050, W: 0.7544, b: -66.2096\n",
            "epoch: 1700000, cost: 84.2485, W: 0.7554, b: -66.3622\n",
            "epoch: 1710000, cost: 84.1926, W: 0.7563, b: -66.5148\n",
            "epoch: 1720000, cost: 84.1372, W: 0.7573, b: -66.6674\n",
            "epoch: 1730000, cost: 84.0823, W: 0.7583, b: -66.8200\n",
            "epoch: 1740000, cost: 84.0281, W: 0.7593, b: -66.9725\n",
            "epoch: 1750000, cost: 83.9743, W: 0.7603, b: -67.1251\n",
            "epoch: 1760000, cost: 83.9212, W: 0.7612, b: -67.2777\n",
            "epoch: 1770000, cost: 83.8686, W: 0.7622, b: -67.4303\n",
            "epoch: 1780000, cost: 83.8165, W: 0.7632, b: -67.5829\n",
            "epoch: 1790000, cost: 83.7650, W: 0.7642, b: -67.7355\n",
            "epoch: 1800000, cost: 83.7141, W: 0.7651, b: -67.8881\n",
            "epoch: 1810000, cost: 83.6637, W: 0.7661, b: -68.0407\n",
            "epoch: 1820000, cost: 83.6139, W: 0.7671, b: -68.1932\n",
            "epoch: 1830000, cost: 83.5646, W: 0.7681, b: -68.3458\n",
            "epoch: 1840000, cost: 83.5158, W: 0.7690, b: -68.4984\n",
            "epoch: 1850000, cost: 83.4677, W: 0.7700, b: -68.6510\n",
            "epoch: 1860000, cost: 83.4200, W: 0.7710, b: -68.8036\n",
            "epoch: 1870000, cost: 83.3730, W: 0.7720, b: -68.9562\n",
            "epoch: 1880000, cost: 83.3265, W: 0.7729, b: -69.1088\n",
            "epoch: 1890000, cost: 83.2805, W: 0.7739, b: -69.2614\n",
            "epoch: 1900000, cost: 83.2351, W: 0.7749, b: -69.4139\n",
            "epoch: 1910000, cost: 83.1903, W: 0.7759, b: -69.5665\n",
            "epoch: 1920000, cost: 83.1460, W: 0.7768, b: -69.7191\n",
            "epoch: 1930000, cost: 83.1022, W: 0.7778, b: -69.8717\n",
            "epoch: 1940000, cost: 83.0591, W: 0.7788, b: -70.0243\n",
            "epoch: 1950000, cost: 83.0167, W: 0.7798, b: -70.1760\n",
            "epoch: 1960000, cost: 82.9851, W: 0.7805, b: -70.2905\n",
            "epoch: 1970000, cost: 82.9538, W: 0.7812, b: -70.4049\n",
            "epoch: 1980000, cost: 82.9228, W: 0.7820, b: -70.5193\n",
            "epoch: 1990000, cost: 82.9012, W: 0.7825, b: -70.5998\n",
            "epoch: 2000000, cost: 82.8809, W: 0.7830, b: -70.6761\n"
          ],
          "name": "stdout"
        }
      ]
    },
    {
      "cell_type": "code",
      "metadata": {
        "id": "GkoEKMcmhI5T",
        "outputId": "aa555053-10c9-4f16-91b2-fb02f6c10c78",
        "colab": {
          "base_uri": "https://localhost:8080/"
        }
      },
      "source": [
        "x_test = torch.FloatTensor([[154.56444352674015]])\n",
        "test_result = torch.mm(x_test, W) + b\n",
        "test_result"
      ],
      "execution_count": 8,
      "outputs": [
        {
          "output_type": "execute_result",
          "data": {
            "text/plain": [
              "tensor([[50.3404]])"
            ]
          },
          "metadata": {
            "tags": []
          },
          "execution_count": 8
        }
      ]
    },
    {
      "cell_type": "markdown",
      "metadata": {
        "id": "U7XgtMkqClj_"
      },
      "source": [
        "### Task 5. (20 점) Matplotlib을 사용하여 좌표평면상에 입력값(키, 몸무게)과 구한 직선을 그려보기\n",
        "* Task 5-1. (10 점) 입력값(키, 몸무게)를 산포도로 그리기 (x축=키, y축=몸무게)\n",
        "* Task 5-2. (10 점) w와 b값을 이용하여 직선 그리기 (산포도와 일치하는지 확인하여 학습이 잘 되었는지 확인하기 위함)\n"
      ]
    },
    {
      "cell_type": "code",
      "metadata": {
        "id": "3hPQ4eXeCs6k",
        "outputId": "17c12af6-ff95-4e31-ab61-3ae9c4735db2",
        "colab": {
          "base_uri": "https://localhost:8080/",
          "height": 279
        }
      },
      "source": [
        "import matplotlib.pyplot as plt\n",
        "\n",
        "W.requires_grad_(False)\n",
        "b.requires_grad_(False)\n",
        "\n",
        "plt.scatter(x_train, y_train, c=\"black\")\n",
        "\n",
        "plt.ylabel(\"Weight\")\n",
        "plt.xlabel(\"Height\")\n",
        "\n",
        "X = torch.linspace(100,200,len(df_h)).unsqueeze(1)\n",
        "Y = torch.mm(X, W) + b\n",
        "\n",
        "plt.plot(X, Y, c=\"#ff0000\")\n",
        "plt.show()"
      ],
      "execution_count": 7,
      "outputs": [
        {
          "output_type": "display_data",
          "data": {
            "image/png": "[encoded data removed]",
            "text/plain": [
              "<Figure size 432x288 with 1 Axes>"
            ]
          },
          "metadata": {
            "tags": [],
            "needs_background": "light"
          }
        }
      ]
    }
  ]
}