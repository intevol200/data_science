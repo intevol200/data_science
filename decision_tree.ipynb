{
  "nbformat": 4,
  "nbformat_minor": 0,
  "metadata": {
    "colab": {
      "name": "decision_tree.ipynb",
      "provenance": [],
      "collapsed_sections": []
    },
    "kernelspec": {
      "name": "python3",
      "display_name": "Python 3"
    }
  },
  "cells": [
    {
      "cell_type": "code",
      "metadata": {
        "id": "_g3DKM2voiNV"
      },
      "source": [
        "import torch\n",
        "import requests\n",
        "import random\n",
        "from collections import Counter\n",
        "\n",
        "# iris data 다운로드\n",
        "iris_url = \"https://archive.ics.uci.edu/ml/machine-learning-databases/iris/iris.data\"\n",
        "r = requests.get(iris_url)\n",
        "with open('iris.data', 'wb') as f:\n",
        "    f.write(r.content)"
      ],
      "execution_count": 2,
      "outputs": []
    },
    {
      "cell_type": "code",
      "metadata": {
        "id": "tDE6QppOqftK"
      },
      "source": [
        "vectors = []\n",
        "answers = []\n",
        "\n",
        "with open('iris.data', 'r') as f:\n",
        "    for line in f:\n",
        "        items = line.strip().split(\",\")\n",
        "        if len(items) == 5:\n",
        "            x = tuple(float(i) for i in items[:4])\n",
        "            y = items[4]\n",
        "            vectors.append(x)\n",
        "            answers.append(y)\n",
        "\n",
        "zipped = list(zip(vectors, answers))\n",
        "random.shuffle(zipped)\n",
        "train_size = int(len(vectors) * 0.8)\n",
        "train_x, train_y = zip(*zipped[:train_size])\n",
        "test_x, test_y = zip(*zipped[train_size:])"
      ],
      "execution_count": 6,
      "outputs": []
    },
    {
      "cell_type": "code",
      "metadata": {
        "colab": {
          "base_uri": "https://localhost:8080/"
        },
        "id": "LNNOPEkqsAVs",
        "outputId": "c51112cb-c93a-4f07-ec4a-52b519021fee"
      },
      "source": [
        "def gini_score(items):\n",
        "    counter = Counter(items)\n",
        "    total_count = sum(counter.values())\n",
        "    gini = 1\n",
        "    for item, count in counter.items():\n",
        "        gini -= (count / total_count)**2\n",
        "    \n",
        "    return gini\n",
        "\n",
        "def find_split_point_of_a_field(pairs):\n",
        "    S = sorted(pairs, key = lambda x: x[0])\n",
        "\n",
        "    min_gini, min_sp = 99, -1\n",
        "\n",
        "    for i in range(1, len(S)):\n",
        "        if S[i][0] != S[i-1][0]:\n",
        "            gini_left = gini_score(x[1] for x in S[:i])\n",
        "            gini_right = gini_score(x[1] for x in S[i:])\n",
        "            gini = gini_left * i / len(S) + gini_right * (len(S)-i) / len(S)\n",
        "            sp = (S[i][0] + S[i-1][0])/2\n",
        "            if min_gini > gini:\n",
        "                min_gini, min_sp = gini, sp\n",
        "                \n",
        "    return min_sp, min_gini\n",
        "\n",
        "def split_data(X, Y):\n",
        "    num_fields = len(X[0])\n",
        "    min_gini, min_sp, min_fid = 99, -1, -1\n",
        "    for fid in range(num_fields):\n",
        "        sp, gini = find_split_point_of_a_field(zip((x[fid] for x in X), Y))\n",
        "        if min_gini > gini:\n",
        "            min_gini, min_sp, min_fid = gini, sp, fid\n",
        "\n",
        "    node = {}\n",
        "    node['fid'] = min_fid\n",
        "    node['sp'] = min_sp\n",
        "    node['gini'] = min_gini\n",
        "    node['left'] = tuple(zip(*((x, y) for x, y in zip(X, Y) if x[min_fid] < min_sp)))\n",
        "    node['right'] = tuple(zip(*((x, y) for x, y in zip(X, Y) if x[min_fid] >= min_sp)))\n",
        "\n",
        "    return node\n",
        "\n",
        "def decision_tree(X, Y, threshold):\n",
        "    original_gini = gini_score(Y)\n",
        "    node = split_data(X, Y)\n",
        "    node['gini']\n",
        "\n",
        "    if original_gini - node['gini'] <= threshold:\n",
        "        counter = Counter(Y)\n",
        "        total_count = sum(counter.values())\n",
        "        ans, c = counter.most_common(1)[0]\n",
        "        return (ans, c/total_count)\n",
        "    else:\n",
        "        XL, YL = node['left']\n",
        "        node['left'] = decision_tree(XL, YL, threshold)\n",
        "        XR, YR = node['right']\n",
        "        node['right'] = decision_tree(XR, YR, threshold)\n",
        "        return node\n",
        "\n",
        "def predict(x, tree):\n",
        "    if 'fid' not in tree:\n",
        "        return tree\n",
        "    \n",
        "    if x[tree['fid']] < tree['sp']:\n",
        "        return predict(x, tree['left'])\n",
        "    else:\n",
        "        return predict(x, tree['right'])\n",
        "\n",
        "tree = decision_tree(train_x, train_y, 0.1)\n",
        "\n",
        "train_accuracy = 0\n",
        "for x, y in zip(train_x, train_y):\n",
        "    if predict(x, tree)[0] == y:\n",
        "        train_accuracy += 1\n",
        "train_accuracy /= len(train_x)\n",
        "print(\"train_accuracy:\", train_accuracy)\n",
        "\n",
        "test_accuracy = 0\n",
        "for x, y in zip(test_x, test_y):\n",
        "    if predict(x, tree)[0] == y:\n",
        "        test_accuracy += 1\n",
        "test_accuracy /= len(test_x)\n",
        "print(\"test_accuracy:\", test_accuracy)"
      ],
      "execution_count": 54,
      "outputs": [
        {
          "output_type": "stream",
          "text": [
            "train_accuracy: 0.95\n",
            "test_accuracy: 0.9666666666666667\n"
          ],
          "name": "stdout"
        }
      ]
    }
  ]
}