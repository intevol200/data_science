{
  "nbformat": 4,
  "nbformat_minor": 0,
  "metadata": {
    "colab": {
      "name": "naive_bayes.ipynb",
      "provenance": [],
      "collapsed_sections": []
    },
    "kernelspec": {
      "name": "python3",
      "display_name": "Python 3"
    }
  },
  "cells": [
    {
      "cell_type": "code",
      "metadata": {
        "id": "P04ZuDwrBuNC"
      },
      "source": [
        "import zipfile\n",
        "import requests\n",
        "from collections import Counter\n",
        "import re\n",
        "import math\n",
        "\n",
        "x = requests.get(\"http://www.dt.fee.unicamp.br/~tiago/smsspamcollection/smsspamcollection.zip\")\n",
        "\n",
        "with open(\"spam.zip\", \"wb\") as f:\n",
        "    f.write(x.content)\n",
        "\n",
        "zipfile.ZipFile(\"spam.zip\").extractall(\"./\")\n",
        "data = [line.strip().split(\"\\t\") for line in open(\"SMSSpamCollection.txt\", \"r\")]"
      ],
      "execution_count": null,
      "outputs": []
    },
    {
      "cell_type": "code",
      "metadata": {
        "id": "SOy3OUGVo_8D"
      },
      "source": [
        "# 데이터 나누기\n",
        "train_size = int(len(data) * 0.8)\n",
        "\n",
        "train = data[:train_size]\n",
        "test = data[train_size:]\n",
        "\n",
        "num_spams = sum(1 for s, c in train if s == \"spam\")"
      ],
      "execution_count": null,
      "outputs": []
    },
    {
      "cell_type": "code",
      "metadata": {
        "colab": {
          "base_uri": "https://localhost:8080/"
        },
        "id": "aUhQrERipAxz",
        "outputId": "5b9f591e-5fe1-41f0-ea29-edfa8cf52e90"
      },
      "source": [
        "# prior probability\n",
        "prior_spam = sum(1 for s, c in train if s == \"spam\") / train_size\n",
        "prior_ham = 1 - prior_spam\n",
        "\n",
        "print(prior_spam, prior_ham)"
      ],
      "execution_count": null,
      "outputs": [
        {
          "output_type": "stream",
          "text": [
            "0.13500784929356358 0.8649921507064364\n"
          ],
          "name": "stdout"
        }
      ]
    },
    {
      "cell_type": "code",
      "metadata": {
        "id": "3pEPGpHGpDg0"
      },
      "source": [
        "# likelyhood\n",
        "num_spam_words = sum(len(re.findall(\"[0-9a-z_]+\", c.lower())) for s, c in train if s == \"spam\")\n",
        "num_ham_words = sum(len(re.findall(\"[0-9a-z_]+\", c.lower())) for s, c in train if s != \"spam\")\n",
        "\n",
        "spams = [c for s, c in train if s == \"spam\"]\n",
        "hams = [c for s, c in train if s == \"ham\"]\n",
        "\n",
        "spam_words = Counter([w for txt in spams for w in re.findall(\"[0-9a-z_]+\", txt.lower())])\n",
        "ham_words = Counter([w for txt in hams for w in re.findall(\"[0-9a-z_]+\", txt.lower())])\n",
        "\n",
        "num_unique_words = len(set(w for s, c in train for w in re.findall(\"[0-9a-z_]+\", c.lower())))\n",
        "\n",
        "# P(w | S) = (w가 S에서 등장하는 횟수) / num_spam_words\n",
        "# P(w | H) = (w가 H에서 등장하는 횟수) / num_ham_words"
      ],
      "execution_count": null,
      "outputs": []
    },
    {
      "cell_type": "code",
      "metadata": {
        "id": "sAMtFG6SpFux"
      },
      "source": [
        "# predict\n",
        "def predict(txt, k=0.5):\n",
        "    words = re.findall(\"[0-9a-z_]+\", txt.lower())\n",
        "\n",
        "    spam_score = math.log(prior_spam)\n",
        "    ham_score = math.log(prior_ham)\n",
        "\n",
        "    for w in words:\n",
        "        spam_score += math.log((spam_words[w] + k) / (num_spam_words + num_unique_words * k))\n",
        "        ham_score += math.log((ham_words[w] + k) / (num_ham_words + num_unique_words * k))\n",
        "\n",
        "    return spam_score > ham_score"
      ],
      "execution_count": null,
      "outputs": []
    },
    {
      "cell_type": "code",
      "metadata": {
        "colab": {
          "base_uri": "https://localhost:8080/"
        },
        "id": "VgT5fb3MxIf6",
        "outputId": "dc5b2927-685d-4ccc-e3b3-cce796f6769c"
      },
      "source": [
        "# 테스트 해보기\n",
        "tp, tn, fp, fn = 0, 0, 0, 0\n",
        "\n",
        "for s, c in test:\n",
        "    isspam = predict(c)\n",
        "    if isspam and s == \"spam\": tp += 1\n",
        "    elif isspam and s != \"spam\": fp += 1\n",
        "    elif not isspam and s == \"spam\": fn += 1\n",
        "    else: tn += 1\n",
        "\n",
        "print(\"tp:\", tp)\n",
        "print(\"tn:\", tn)\n",
        "print(\"fp:\", fp)\n",
        "print(\"fn:\", fn)\n",
        "\n",
        "accuracy = (tp + tn) / (tp + tn + fp + fn)\n",
        "precision = tp / (tp + fp)\n",
        "recall = tp / (tp + fn)\n",
        "f1 = 2 * precision * recall / (precision + recall)\n",
        "\n",
        "print(\"accuracy:\", accuracy)\n",
        "print(\"precision:\", precision)\n",
        "print(\"recall:\", recall)\n",
        "print(\"f1:\", f1)"
      ],
      "execution_count": null,
      "outputs": [
        {
          "output_type": "stream",
          "text": [
            "tp: 140\n",
            "tn: 956\n",
            "fp: 14\n",
            "fn: 5\n",
            "accuracy: 0.9829596412556054\n",
            "precision: 0.9090909090909091\n",
            "recall: 0.9655172413793104\n",
            "f1: 0.9364548494983278\n"
          ],
          "name": "stdout"
        }
      ]
    }
  ]
}