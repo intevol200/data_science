{
  "nbformat": 4,
  "nbformat_minor": 0,
  "metadata": {
    "colab": {
      "name": "latent_factor.ipynb",
      "provenance": [],
      "collapsed_sections": []
    },
    "kernelspec": {
      "name": "python3",
      "display_name": "Python 3"
    }
  },
  "cells": [
    {
      "cell_type": "code",
      "metadata": {
        "id": "SULjsQ3d8D1V",
        "outputId": "d0694501-c1c5-4b75-d9a9-35d819ab2676",
        "colab": {
          "base_uri": "https://localhost:8080/"
        }
      },
      "source": [
        "!ls data"
      ],
      "execution_count": 4,
      "outputs": [
        {
          "output_type": "stream",
          "text": [
            "ua.base  ua.test\n"
          ],
          "name": "stdout"
        }
      ]
    },
    {
      "cell_type": "code",
      "metadata": {
        "id": "juv6DYPN8ofp"
      },
      "source": [
        "import torch\n",
        "import pandas as pd\n",
        "import torch.nn.functional as F\n",
        "import matplotlib.pyplot as plt"
      ],
      "execution_count": 5,
      "outputs": []
    },
    {
      "cell_type": "code",
      "metadata": {
        "id": "QF2-DtiE9MGu"
      },
      "source": [
        "train = pd.read_csv(\"data/ua.base\", sep=\"\\t\", names=['user', 'movie', 'rating', 'timestamp'])\n",
        "test = pd.read_csv(\"data/ua.test\", sep=\"\\t\", names=['user', 'movie', 'rating', 'timestamp'])"
      ],
      "execution_count": 6,
      "outputs": []
    },
    {
      "cell_type": "code",
      "metadata": {
        "id": "1hjGxneL9-Gx"
      },
      "source": [
        "items = torch.LongTensor(train['movie'])\n",
        "users = torch.LongTensor(train['user'])\n",
        "ratings = torch.FloatTensor(train['rating'])\n",
        "\n",
        "items_test = torch.LongTensor(test['movie'])\n",
        "users_test = torch.LongTensor(test['user'])\n",
        "ratings_test = torch.FloatTensor(test['rating'])"
      ],
      "execution_count": 18,
      "outputs": []
    },
    {
      "cell_type": "code",
      "metadata": {
        "id": "6LmcK2xkc9ej",
        "outputId": "33d8aabd-47f7-4285-acf0-6c9fe18c028c",
        "colab": {
          "base_uri": "https://localhost:8080/"
        }
      },
      "source": [
        "rank = 100\n",
        "numItems = items.max() + 1\n",
        "numUsers = users.max() + 1\n",
        "\n",
        "P = torch.randn(numItems, rank, requires_grad=True)\n",
        "Q = torch.randn(numUsers, rank, requires_grad=True)\n",
        "bias_user = torch.randn(numUsers, requires_grad=True)\n",
        "bias_item = torch.randn(numItems, requires_grad=True)\n",
        "\n",
        "mean = ratings.sum() / len(ratings)\n",
        "\n",
        "optimizer = torch.optim.Adam([P, Q], lr=0.1)\n",
        "\n",
        "lambda1 = 0.00001\n",
        "lambda2 = 0.00001\n",
        "lambda3 = 0.0001\n",
        "lambda4 = 0.0001\n",
        "\n",
        "X = []\n",
        "Y = []\n",
        "Y_test = []\n",
        "\n",
        "for epoch in range(1001):\n",
        "    hypothesis = torch. sum(P[items] * Q[users], dim=1) + mean + \\\n",
        "        bias_item[items] + bias_user[users]\n",
        "    mse = F.mse_loss(hypothesis ,ratings)\n",
        "    cost = mse + lambda1 * (P ** 2).sum() + lambda2 * (Q ** 2).sum() + \\\n",
        "        lambda3 * (bias_item ** 2).sum() + lambda4 * (bias_user ** 2).sum()\n",
        "\n",
        "\n",
        "    optimizer.zero_grad()\n",
        "    cost.backward()\n",
        "    optimizer.step()\n",
        "\n",
        "    with torch.no_grad():\n",
        "        hypo_test = torch.sum(P[items_test] * Q[users_test], dim=1) + mean + \\\n",
        "            bias_item[items_test] + bias_user[users_test]\n",
        "        mse_test = F.mse_loss(hypo_test, ratings_test)\n",
        "        \n",
        "        X.append(epoch)\n",
        "        Y.append(mse.item())\n",
        "        Y_test.append(mse_test.item())\n",
        "    \n",
        "    if epoch % 100 == 0:\n",
        "        print(\"epoch: {}, cost: {:.6f}\".format(epoch, mse.item()))"
      ],
      "execution_count": 42,
      "outputs": [
        {
          "output_type": "stream",
          "text": [
            "epoch: 0, cost: 102.589401\n",
            "epoch: 100, cost: 0.065483\n",
            "epoch: 200, cost: 0.021108\n",
            "epoch: 300, cost: 0.011922\n",
            "epoch: 400, cost: 0.008901\n",
            "epoch: 500, cost: 0.007651\n",
            "epoch: 600, cost: 0.007001\n",
            "epoch: 700, cost: 0.006606\n",
            "epoch: 800, cost: 0.006337\n",
            "epoch: 900, cost: 0.006146\n",
            "epoch: 1000, cost: 0.006001\n"
          ],
          "name": "stdout"
        }
      ]
    },
    {
      "cell_type": "code",
      "metadata": {
        "id": "KgBfCdUtc-hw",
        "outputId": "ba20977e-99ef-42f7-b58d-7c25cd4e073d",
        "colab": {
          "base_uri": "https://localhost:8080/"
        }
      },
      "source": [
        "torch.sum(P[1047] * Q[943])"
      ],
      "execution_count": 26,
      "outputs": [
        {
          "output_type": "execute_result",
          "data": {
            "text/plain": [
              "tensor(2.8950, grad_fn=<SumBackward0>)"
            ]
          },
          "metadata": {
            "tags": []
          },
          "execution_count": 26
        }
      ]
    },
    {
      "cell_type": "code",
      "metadata": {
        "id": "4OiRzoD6iHRu",
        "outputId": "d8c3c3b0-ba93-4e9f-c783-5e6174608117",
        "colab": {
          "base_uri": "https://localhost:8080/",
          "height": 279
        }
      },
      "source": [
        "plt.xlabel(\"Epoch\")\n",
        "plt.ylabel(\"MSE\")\n",
        "plt.plot(X, Y, label=\"Training MSE\")\n",
        "plt.plot(X, Y_test, label=\"Test MSE\")\n",
        "plt.legend()\n",
        "plt.show()"
      ],
      "execution_count": 43,
      "outputs": [
        {
          "output_type": "display_data",
          "data": {
            "image/png": "[encoded data removed]",
            "text/plain": [
              "<Figure size 432x288 with 1 Axes>"
            ]
          },
          "metadata": {
            "tags": [],
            "needs_background": "light"
          }
        }
      ]
    },
    {
      "cell_type": "code",
      "metadata": {
        "id": "nnEjAKHBuGeO",
        "outputId": "e596994a-53d5-44c7-d5d6-ce79cbc9ea8d",
        "colab": {
          "base_uri": "https://localhost:8080/",
          "height": 279
        }
      },
      "source": [
        "plt.xlabel(\"Epoch\")\n",
        "plt.ylabel(\"MSE\")\n",
        "plt.plot(X, Y, label=\"Training MSE\")\n",
        "plt.plot(X, Y_test, label=\"Test MSE\")\n",
        "plt.legend()\n",
        "plt.show()"
      ],
      "execution_count": 40,
      "outputs": [
        {
          "output_type": "display_data",
          "data": {
            "image/png": "[encoded data removed]",
            "text/plain": [
              "<Figure size 432x288 with 1 Axes>"
            ]
          },
          "metadata": {
            "tags": [],
            "needs_background": "light"
          }
        }
      ]
    }
  ]
}